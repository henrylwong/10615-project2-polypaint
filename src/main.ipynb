{
 "cells": [
  {
   "cell_type": "code",
   "execution_count": null,
   "metadata": {},
   "outputs": [],
   "source": [
    "from planning import *"
   ]
  },
  {
   "cell_type": "markdown",
   "metadata": {},
   "source": [
    "### Poly Paint: Training"
   ]
  },
  {
   "cell_type": "code",
   "execution_count": null,
   "metadata": {},
   "outputs": [],
   "source": [
    "global opt\n",
    "opt = Options()\n",
    "opt.gather_options()\n",
    "\n",
    "global h, w, colors, current_canvas, text_features, style_img, sketch\n",
    "w = int(opt.max_width)\n",
    "h = int(opt.max_height)\n",
    "\n",
    "painting = plan(opt, opt.num_polygons, h, w)\n",
    "\n",
    "with torch.no_grad():\n",
    "    save_image(painting(h,w), os.path.join(opt.cache_dir, 'init_painting_plan{}.png'.format(str(time.time()))))\n",
    "\n",
    "f = open(os.path.join(opt.cache_dir, \"poly_order.csv\"), \"w\")\n",
    "f.write(painting.to_csv())\n",
    "f.close()"
   ]
  }
 ],
 "metadata": {
  "language_info": {
   "name": "python"
  }
 },
 "nbformat": 4,
 "nbformat_minor": 2
}
